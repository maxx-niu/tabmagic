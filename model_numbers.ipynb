{
 "cells": [
  {
   "cell_type": "code",
   "execution_count": 1,
   "metadata": {},
   "outputs": [],
   "source": [
    "import torch\n",
    "from torch.utils.data import Dataset, DataLoader\n",
    "from torchvision import transforms\n",
    "\n",
    "import os\n",
    "import pandas as pd\n",
    "\n",
    "from PIL import Image"
   ]
  },
  {
   "cell_type": "code",
   "execution_count": 2,
   "metadata": {},
   "outputs": [
    {
     "data": {
      "text/plain": [
       "True"
      ]
     },
     "execution_count": 2,
     "metadata": {},
     "output_type": "execute_result"
    }
   ],
   "source": [
    "torch.cuda.is_available()"
   ]
  },
  {
   "cell_type": "code",
   "execution_count": 3,
   "metadata": {},
   "outputs": [
    {
     "data": {
      "text/plain": [
       "'cuda'"
      ]
     },
     "execution_count": 3,
     "metadata": {},
     "output_type": "execute_result"
    }
   ],
   "source": [
    "# device agnostic code\n",
    "device = \"cuda\" if torch.cuda.is_available() else \"cpu\"\n",
    "device"
   ]
  },
  {
   "cell_type": "code",
   "execution_count": null,
   "metadata": {},
   "outputs": [],
   "source": [
    "bar_transform = transforms.Compose([\n",
    "    transforms.Resize((20, 10)),\n",
    "    transforms.ToTensor()\n",
    "])\n",
    "\n",
    "class TabMagicDataset(Dataset):\n",
    "    def __init__(self,\n",
    "                 data_path: str,\n",
    "                 annotation_path: str,\n",
    "                 transform: transforms.Compose = None):\n",
    "        self.transform = transform\n",
    "        # Load and preprocess the data\n",
    "        self.image_paths = [os.path.join(data_path, img) for img in os.listdir(data_path) if img.endswith(('.png', '.jpg', '.jpeg'))]\n",
    "        self.annotations_df = pd.read_csv(annotation_path)\n",
    "\n",
    "    def __len__(self):\n",
    "        return len(self.image_paths)\n",
    "\n",
    "    def __getitem__(self, idx):\n",
    "        # Load image\n",
    "        img_path = self.image_paths[idx]\n",
    "        image = Image.open(img_path).convert('RGB')\n",
    "        \n",
    "        # Get corresponding annotation\n",
    "        img_name = os.path.basename(img_path)\n",
    "        annotations = self.annotations_df[self.annotations_df['image_name'] == img_name]\n",
    "        \n",
    "        # Extract labels from annotation\n",
    "        labels = []\n",
    "        boxes = []\n",
    "        for _, annotation in annotations.iterrows():\n",
    "            boxes.append([\n",
    "                annotation['bbox_x'],\n",
    "                annotation['bbox_y'],\n",
    "                annotation['bbox_x'] + annotation['bbox_width'],\n",
    "                annotation['bbox_y'] + annotation['bbox_height']\n",
    "            ])\n",
    "            label = self.get_label_id(annotation['label_name'])\n",
    "            labels.append(label)\n",
    "\n",
    "        # Convert to tensor\n",
    "        boxes = torch.as_tensor(boxes, dtype=torch.float32)\n",
    "        labels = torch.as_tensor(labels, dtype=torch.int64)\n",
    "\n",
    "        target = {\n",
    "            'boxes': boxes,\n",
    "            'labels': labels\n",
    "        }\n",
    "\n",
    "        if self.transform:\n",
    "            # Get original dimensions\n",
    "            original_width, original_height = image.size\n",
    "            \n",
    "            # Apply transformations\n",
    "            image = self.transform(image)\n",
    "            \n",
    "            # Get new dimensions\n",
    "            new_width, new_height = image.shape[2], image.shape[1]\n",
    "            \n",
    "            # Calculate scaling factors\n",
    "            scale_x = new_width / original_width\n",
    "            scale_y = new_height / original_height\n",
    "            \n",
    "            # Scale bounding boxes\n",
    "            boxes = target['boxes']\n",
    "            boxes[:, [0, 2]] *= scale_x\n",
    "            boxes[:, [1, 3]] *= scale_y\n",
    "            target['boxes'] = boxes\n",
    "        \n",
    "        return image, target\n",
    "\n",
    "    @staticmethod\n",
    "    def get_label_id(label_name):\n",
    "        if label_name == 'string':\n",
    "            return 1  # All string labels are now class 26\n",
    "        elif label_name == 'number':\n",
    "            return 2\n",
    "        else:\n",
    "            raise ValueError(f\"Unknown label: {label_name}\")"
   ]
  }
 ],
 "metadata": {
  "kernelspec": {
   "display_name": "venv",
   "language": "python",
   "name": "python3"
  },
  "language_info": {
   "codemirror_mode": {
    "name": "ipython",
    "version": 3
   },
   "file_extension": ".py",
   "mimetype": "text/x-python",
   "name": "python",
   "nbconvert_exporter": "python",
   "pygments_lexer": "ipython3",
   "version": "3.10.9"
  }
 },
 "nbformat": 4,
 "nbformat_minor": 2
}
