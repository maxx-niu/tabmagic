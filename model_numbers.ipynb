{
 "cells": [
  {
   "cell_type": "code",
   "execution_count": 122,
   "metadata": {},
   "outputs": [],
   "source": [
    "import torch\n",
    "from torch.utils.data import Dataset, DataLoader, random_split\n",
    "from torchvision import transforms, datasets\n",
    "\n",
    "import os\n",
    "import pandas as pd\n",
    "\n",
    "from PIL import Image"
   ]
  },
  {
   "cell_type": "code",
   "execution_count": 123,
   "metadata": {},
   "outputs": [
    {
     "data": {
      "text/plain": [
       "True"
      ]
     },
     "execution_count": 123,
     "metadata": {},
     "output_type": "execute_result"
    }
   ],
   "source": [
    "torch.cuda.is_available()"
   ]
  },
  {
   "cell_type": "code",
   "execution_count": 124,
   "metadata": {},
   "outputs": [
    {
     "data": {
      "text/plain": [
       "'cuda'"
      ]
     },
     "execution_count": 124,
     "metadata": {},
     "output_type": "execute_result"
    }
   ],
   "source": [
    "# device agnostic code\n",
    "device = \"cuda\" if torch.cuda.is_available() else \"cpu\"\n",
    "device"
   ]
  },
  {
   "cell_type": "code",
   "execution_count": 125,
   "metadata": {},
   "outputs": [],
   "source": [
    "class CustomImageFolder(datasets.ImageFolder):\n",
    "    def __init__(self, root, transform=None):\n",
    "        super().__init__(root, transform)\n",
    "        # Create a mapping from folder names to indices\n",
    "        self.custom_class_to_idx = {name: int(name) for name in self.classes}\n",
    "        # Create a reverse mapping\n",
    "        self.custom_idx_to_class = {v: k for k, v in self.custom_class_to_idx.items()}\n",
    "        \n",
    "    def __getitem__(self, index):\n",
    "        path, _ = self.samples[index]\n",
    "        sample = self.loader(path)\n",
    "        if self.transform is not None:\n",
    "            sample = self.transform(sample)\n",
    "        \n",
    "        # Use the folder name as the label\n",
    "        label = int(os.path.basename(os.path.dirname(path)))\n",
    "        return sample, label"
   ]
  },
  {
   "cell_type": "code",
   "execution_count": 126,
   "metadata": {},
   "outputs": [],
   "source": [
    "bar_transform = transforms.Compose([\n",
    "    transforms.Resize((40, 30)),\n",
    "    transforms.Grayscale(),\n",
    "    transforms.ToTensor(),\n",
    "    transforms.Normalize(mean=[0.5], std=[0.5])\n",
    "])\n",
    "\n",
    "data_dir = './data/features/numbers'\n",
    "\n",
    "dataset = CustomImageFolder(root=data_dir, transform=bar_transform)"
   ]
  },
  {
   "cell_type": "code",
   "execution_count": 127,
   "metadata": {},
   "outputs": [
    {
     "data": {
      "text/plain": [
       "677"
      ]
     },
     "execution_count": 127,
     "metadata": {},
     "output_type": "execute_result"
    }
   ],
   "source": [
    "size = len(dataset)\n",
    "size"
   ]
  },
  {
   "cell_type": "code",
   "execution_count": 128,
   "metadata": {},
   "outputs": [],
   "source": [
    "train_size = int(0.8 * size)\n",
    "test_size = size - train_size"
   ]
  },
  {
   "cell_type": "code",
   "execution_count": 129,
   "metadata": {},
   "outputs": [],
   "source": [
    "train, test = random_split(\n",
    "    dataset=dataset, lengths=[train_size, test_size]\n",
    ")"
   ]
  },
  {
   "cell_type": "code",
   "execution_count": 130,
   "metadata": {},
   "outputs": [
    {
     "data": {
      "text/plain": [
       "7"
      ]
     },
     "execution_count": 130,
     "metadata": {},
     "output_type": "execute_result"
    }
   ],
   "source": [
    "image, label = train[0]\n",
    "label"
   ]
  },
  {
   "cell_type": "code",
   "execution_count": 131,
   "metadata": {},
   "outputs": [],
   "source": [
    "train_dl = DataLoader(train, batch_size=32, shuffle=True)\n",
    "test_dl = DataLoader(test, batch_size=32, shuffle=False)"
   ]
  },
  {
   "cell_type": "code",
   "execution_count": 132,
   "metadata": {},
   "outputs": [
    {
     "data": {
      "text/plain": [
       "<matplotlib.image.AxesImage at 0x1b076c5bc40>"
      ]
     },
     "execution_count": 132,
     "metadata": {},
     "output_type": "execute_result"
    },
    {
     "data": {
      "image/png": "[encoded data removed]",
      "text/plain": [
       "<Figure size 640x480 with 1 Axes>"
      ]
     },
     "metadata": {},
     "output_type": "display_data"
    }
   ],
   "source": [
    "import matplotlib.pyplot as plt\n",
    "plt.imshow(image.permute(1,2,0).squeeze(), cmap=\"gray\")"
   ]
  },
  {
   "cell_type": "code",
   "execution_count": 133,
   "metadata": {},
   "outputs": [
    {
     "data": {
      "text/plain": [
       "torch.Size([1, 40, 30])"
      ]
     },
     "execution_count": 133,
     "metadata": {},
     "output_type": "execute_result"
    }
   ],
   "source": [
    "image.shape"
   ]
  },
  {
   "cell_type": "code",
   "execution_count": 134,
   "metadata": {},
   "outputs": [
    {
     "data": {
      "text/plain": [
       "['0',\n",
       " '1',\n",
       " '10',\n",
       " '11',\n",
       " '12',\n",
       " '13',\n",
       " '14',\n",
       " '15',\n",
       " '16',\n",
       " '17',\n",
       " '18',\n",
       " '19',\n",
       " '2',\n",
       " '20',\n",
       " '21',\n",
       " '22',\n",
       " '23',\n",
       " '24',\n",
       " '3',\n",
       " '4',\n",
       " '5',\n",
       " '6',\n",
       " '7',\n",
       " '8',\n",
       " '9']"
      ]
     },
     "execution_count": 134,
     "metadata": {},
     "output_type": "execute_result"
    }
   ],
   "source": [
    "class_names = train_dl.dataset.dataset.classes\n",
    "class_names"
   ]
  },
  {
   "cell_type": "code",
   "execution_count": 135,
   "metadata": {},
   "outputs": [
    {
     "name": "stdout",
     "output_type": "stream",
     "text": [
      "{'0': 0, '1': 1, '10': 10, '11': 11, '12': 12, '13': 13, '14': 14, '15': 15, '16': 16, '17': 17, '18': 18, '19': 19, '2': 2, '20': 20, '21': 21, '22': 22, '23': 23, '24': 24, '3': 3, '4': 4, '5': 5, '6': 6, '7': 7, '8': 8, '9': 9}\n"
     ]
    }
   ],
   "source": [
    "custom_class_to_idx = train_dl.dataset.dataset.custom_class_to_idx\n",
    "print(custom_class_to_idx)"
   ]
  },
  {
   "cell_type": "code",
   "execution_count": 136,
   "metadata": {},
   "outputs": [],
   "source": [
    "from torch import nn\n",
    "latten_model = nn.Flatten()"
   ]
  },
  {
   "cell_type": "code",
   "execution_count": 137,
   "metadata": {},
   "outputs": [
    {
     "data": {
      "text/plain": [
       "(torch.Size([32, 1, 40, 30]), torch.Size([32]))"
      ]
     },
     "execution_count": 137,
     "metadata": {},
     "output_type": "execute_result"
    }
   ],
   "source": [
    "train_features_batch, train_labels_batch = next(iter(train_dl))\n",
    "train_features_batch.shape, train_labels_batch.shape"
   ]
  },
  {
   "cell_type": "code",
   "execution_count": 138,
   "metadata": {},
   "outputs": [],
   "source": [
    "class NumberCNN(nn.Module):\n",
    "    def __init__(self, input_shape, hidden_units, output_shape):\n",
    "        super().__init__()\n",
    "        self.conv_block_1 = nn.Sequential(\n",
    "            nn.Conv2d(input_shape, hidden_units, kernel_size=3, stride=1, padding=1),\n",
    "            nn.ReLU(),\n",
    "            nn.Conv2d(hidden_units, hidden_units, kernel_size=3, stride=1, padding=1),\n",
    "            nn.ReLU(),\n",
    "            nn.MaxPool2d(2)\n",
    "        )\n",
    "        self.conv_block_2 = nn.Sequential(\n",
    "            nn.Conv2d(hidden_units, hidden_units*2, kernel_size=3, stride=1, padding=1),\n",
    "            nn.ReLU(),\n",
    "            nn.Conv2d(hidden_units*2, hidden_units*2, kernel_size=3, stride=1, padding=1),\n",
    "            nn.ReLU(),\n",
    "            nn.MaxPool2d(2)\n",
    "        )\n",
    "        self.classifier = nn.Sequential(\n",
    "            nn.Flatten(),\n",
    "            nn.Linear(hidden_units*2 * 7 * 10, output_shape)\n",
    "        )\n",
    "    \n",
    "    def forward(self, x):\n",
    "        x = self.conv_block_1(x)\n",
    "        x = self.conv_block_2(x)\n",
    "        x = self.classifier(x)\n",
    "        return x\n",
    "\n",
    "numberCNN = NumberCNN(input_shape=1, hidden_units=32, output_shape=25).to(device)"
   ]
  },
  {
   "cell_type": "code",
   "execution_count": 139,
   "metadata": {},
   "outputs": [],
   "source": [
    "numberCNN = NumberCNN(\n",
    "    input_shape=1,\n",
    "    hidden_units=15,\n",
    "    output_shape=len(class_names)\n",
    ").to(device=device)"
   ]
  },
  {
   "cell_type": "code",
   "execution_count": 140,
   "metadata": {},
   "outputs": [
    {
     "data": {
      "text/plain": [
       "tensor([[ 0.0667,  0.0017, -0.0528, -0.0036,  0.0048, -0.0152, -0.0098, -0.0063,\n",
       "         -0.0072,  0.0148,  0.0057,  0.0352, -0.0031, -0.0837,  0.0277, -0.0235,\n",
       "         -0.0509, -0.0081, -0.0042,  0.0429, -0.0063, -0.0456, -0.0210,  0.0523,\n",
       "          0.0603]], device='cuda:0', grad_fn=<AddmmBackward0>)"
      ]
     },
     "execution_count": 140,
     "metadata": {},
     "output_type": "execute_result"
    }
   ],
   "source": [
    "numberCNN(image.unsqueeze(0).to(device))"
   ]
  },
  {
   "cell_type": "code",
   "execution_count": 141,
   "metadata": {},
   "outputs": [
    {
     "name": "stdout",
     "output_type": "stream",
     "text": [
      "helper_functions.py already exists\n"
     ]
    }
   ],
   "source": [
    "import requests\n",
    "from pathlib import Path\n",
    "\n",
    "if Path(\"helper_functions.py\").is_file():\n",
    "  print(\"helper_functions.py already exists\")\n",
    "else:\n",
    "  print(\"downloading helper_functions.py\")\n",
    "  request = requests.get(\"https://raw.githubusercontent.com/mrdbourke/pytorch-deep-learning/main/helper_functions.py\")\n",
    "  with open(\"helper_functions.py\", \"wb\") as f:\n",
    "    f.write(request.content)\n",
    "from helper_functions import accuracy_fn"
   ]
  },
  {
   "cell_type": "code",
   "execution_count": 142,
   "metadata": {},
   "outputs": [],
   "source": [
    "def train_step(\n",
    "    model: nn.Module,\n",
    "    dataloader: torch.utils.data.DataLoader,\n",
    "    loss_fn: torch.nn.Module,\n",
    "    optimizer: torch.optim.Optimizer,\n",
    "    device: torch.device = device\n",
    "):\n",
    "  train_loss, train_acc = 0, 0\n",
    "  model.train()\n",
    "  for batch_idx, (train_features_batch, train_labels_batch) in enumerate(dataloader):\n",
    "    train_features_batch = train_features_batch.to(device)\n",
    "    train_labels_batch = train_labels_batch.to(device)\n",
    "    # forward pass\n",
    "    y_logits = model(train_features_batch)\n",
    "    y_pred = torch.argmax(y_logits, dim=1)\n",
    "\n",
    "    # calculate loss\n",
    "    loss = loss_fn(y_logits, train_labels_batch)\n",
    "    train_loss += loss\n",
    "    train_acc += accuracy_fn(train_labels_batch, y_pred)\n",
    "\n",
    "    # optimizer zero grad\n",
    "    optimizer.zero_grad()\n",
    "\n",
    "    # backprop\n",
    "    loss.backward()\n",
    "\n",
    "    # optimizer step\n",
    "    optimizer.step()\n",
    "\n",
    "  train_loss /= len(dataloader)\n",
    "  train_acc /= len(dataloader)\n",
    "  print(f\"train loss: {train_loss:.4f} | train acc: {train_acc:.2f}\")"
   ]
  },
  {
   "cell_type": "code",
   "execution_count": 143,
   "metadata": {},
   "outputs": [],
   "source": [
    "# test loop function\n",
    "def test_step(\n",
    "    model: torch.nn.Module,\n",
    "    data_loader: torch.utils.data.DataLoader,\n",
    "    loss_fn: torch.nn.Module,\n",
    "    accuracy_fn,\n",
    "    device: torch.device = device\n",
    "):\n",
    "  \"\"\"Returns a dict. containing the results of model predicting on data_loader\"\"\"\n",
    "  loss, acc = 0, 0\n",
    "  model.eval()\n",
    "  with torch.inference_mode():\n",
    "    for batch_idx, (test_features_batch, test_labels_batch) in enumerate(data_loader):\n",
    "      test_features_batch = test_features_batch.to(device)\n",
    "      test_labels_batch = test_labels_batch.to(device)\n",
    "      # forward pass\n",
    "      y_pred_logits = model(test_features_batch).squeeze()\n",
    "      test_pred = torch.argmax(y_pred_logits, dim=1)\n",
    "      # calculate loss\n",
    "      loss += loss_fn(y_pred_logits, test_labels_batch)\n",
    "      # calculate acc:\n",
    "      acc += accuracy_fn(test_labels_batch, test_pred)\n",
    "\n",
    "    # calculate the test loss avg per batch\n",
    "    loss /= len(data_loader)\n",
    "    # calculate the test acc avg per batch\n",
    "    acc /= len(data_loader)\n",
    "  print(f\"test loss: {loss:.4f} | test acc: {acc:.2f}\")"
   ]
  },
  {
   "cell_type": "code",
   "execution_count": 144,
   "metadata": {},
   "outputs": [
    {
     "name": "stdout",
     "output_type": "stream",
     "text": [
      "Epoch: 0\n",
      "------\n",
      "train loss: 3.2226 | train acc: 3.31\n",
      "test loss: 3.2226 | test acc: 1.88\n",
      "Epoch: 1\n",
      "------\n",
      "train loss: 3.2097 | train acc: 6.49\n",
      "test loss: 3.2200 | test acc: 4.38\n",
      "Epoch: 2\n",
      "------\n",
      "train loss: 3.1796 | train acc: 8.11\n",
      "test loss: 3.1679 | test acc: 8.12\n",
      "Epoch: 3\n",
      "------\n",
      "train loss: 2.9683 | train acc: 11.07\n",
      "test loss: 2.7579 | test acc: 18.75\n",
      "Epoch: 4\n",
      "------\n",
      "train loss: 2.6490 | train acc: 25.32\n",
      "test loss: 2.4578 | test acc: 27.50\n",
      "Epoch: 5\n",
      "------\n",
      "train loss: 1.7527 | train acc: 48.02\n",
      "test loss: 1.7580 | test acc: 46.25\n",
      "Epoch: 6\n",
      "------\n",
      "train loss: 1.2835 | train acc: 64.52\n",
      "test loss: 1.2929 | test acc: 66.88\n",
      "Epoch: 7\n",
      "------\n",
      "train loss: 0.8765 | train acc: 74.77\n",
      "test loss: 0.8138 | test acc: 76.88\n",
      "Epoch: 8\n",
      "------\n",
      "train loss: 0.5043 | train acc: 86.16\n",
      "test loss: 1.0393 | test acc: 73.75\n",
      "Epoch: 9\n",
      "------\n",
      "train loss: 0.4816 | train acc: 86.71\n",
      "test loss: 0.4967 | test acc: 86.25\n",
      "Epoch: 10\n",
      "------\n",
      "train loss: 0.3758 | train acc: 92.08\n",
      "test loss: 0.5150 | test acc: 86.25\n",
      "Epoch: 11\n",
      "------\n",
      "train loss: 0.1366 | train acc: 96.69\n",
      "test loss: 0.7849 | test acc: 85.00\n",
      "Epoch: 12\n",
      "------\n",
      "train loss: 0.0623 | train acc: 98.35\n",
      "test loss: 0.4497 | test acc: 92.50\n",
      "Epoch: 13\n",
      "------\n",
      "train loss: 0.0377 | train acc: 98.71\n",
      "test loss: 0.4613 | test acc: 92.50\n",
      "Epoch: 14\n",
      "------\n",
      "train loss: 0.0266 | train acc: 99.45\n",
      "test loss: 0.4871 | test acc: 92.50\n",
      "Epoch: 15\n",
      "------\n",
      "train loss: 0.0122 | train acc: 99.63\n",
      "test loss: 0.4993 | test acc: 92.50\n",
      "Epoch: 16\n",
      "------\n",
      "train loss: 0.0114 | train acc: 99.63\n",
      "test loss: 0.5113 | test acc: 91.25\n",
      "Epoch: 17\n",
      "------\n",
      "train loss: 0.0115 | train acc: 99.82\n",
      "test loss: 0.5566 | test acc: 92.50\n",
      "Epoch: 18\n",
      "------\n",
      "train loss: 0.0037 | train acc: 100.00\n",
      "test loss: 0.5499 | test acc: 93.12\n",
      "Epoch: 19\n",
      "------\n",
      "train loss: 0.0025 | train acc: 100.00\n",
      "test loss: 0.5634 | test acc: 93.12\n",
      "Epoch: 20\n",
      "------\n",
      "train loss: 0.0019 | train acc: 100.00\n",
      "test loss: 0.5762 | test acc: 93.12\n",
      "Epoch: 21\n",
      "------\n",
      "train loss: 0.0016 | train acc: 100.00\n",
      "test loss: 0.5911 | test acc: 93.12\n",
      "Epoch: 22\n",
      "------\n",
      "train loss: 0.0013 | train acc: 100.00\n",
      "test loss: 0.5960 | test acc: 93.12\n",
      "Epoch: 23\n",
      "------\n",
      "train loss: 0.0012 | train acc: 100.00\n",
      "test loss: 0.6095 | test acc: 93.12\n",
      "Epoch: 24\n",
      "------\n",
      "train loss: 0.0010 | train acc: 100.00\n",
      "test loss: 0.6170 | test acc: 93.12\n",
      "Epoch: 25\n",
      "------\n",
      "train loss: 0.0009 | train acc: 100.00\n",
      "test loss: 0.6236 | test acc: 93.12\n",
      "Epoch: 26\n",
      "------\n",
      "train loss: 0.0008 | train acc: 100.00\n",
      "test loss: 0.6299 | test acc: 93.12\n",
      "Epoch: 27\n",
      "------\n",
      "train loss: 0.0008 | train acc: 100.00\n",
      "test loss: 0.6351 | test acc: 93.12\n",
      "Epoch: 28\n",
      "------\n",
      "train loss: 0.0007 | train acc: 100.00\n",
      "test loss: 0.6427 | test acc: 93.12\n",
      "Epoch: 29\n",
      "------\n",
      "train loss: 0.0006 | train acc: 100.00\n",
      "test loss: 0.6475 | test acc: 93.12\n",
      "Epoch: 30\n",
      "------\n",
      "train loss: 0.0006 | train acc: 100.00\n",
      "test loss: 0.6540 | test acc: 93.12\n",
      "Epoch: 31\n",
      "------\n",
      "train loss: 0.0005 | train acc: 100.00\n",
      "test loss: 0.6586 | test acc: 93.12\n",
      "Epoch: 32\n",
      "------\n",
      "train loss: 0.0005 | train acc: 100.00\n",
      "test loss: 0.6629 | test acc: 93.12\n",
      "Epoch: 33\n",
      "------\n",
      "train loss: 0.0005 | train acc: 100.00\n",
      "test loss: 0.6674 | test acc: 93.12\n",
      "Epoch: 34\n",
      "------\n",
      "train loss: 0.0005 | train acc: 100.00\n",
      "test loss: 0.6697 | test acc: 93.12\n",
      "Epoch: 35\n",
      "------\n",
      "train loss: 0.0004 | train acc: 100.00\n",
      "test loss: 0.6735 | test acc: 93.12\n",
      "Epoch: 36\n",
      "------\n",
      "train loss: 0.0004 | train acc: 100.00\n",
      "test loss: 0.6766 | test acc: 93.12\n",
      "Epoch: 37\n",
      "------\n",
      "train loss: 0.0004 | train acc: 100.00\n",
      "test loss: 0.6803 | test acc: 93.12\n",
      "Epoch: 38\n",
      "------\n",
      "train loss: 0.0004 | train acc: 100.00\n",
      "test loss: 0.6844 | test acc: 93.12\n",
      "Epoch: 39\n",
      "------\n",
      "train loss: 0.0003 | train acc: 100.00\n",
      "test loss: 0.6884 | test acc: 93.12\n",
      "Epoch: 40\n",
      "------\n",
      "train loss: 0.0003 | train acc: 100.00\n",
      "test loss: 0.6914 | test acc: 93.12\n",
      "Epoch: 41\n",
      "------\n",
      "train loss: 0.0003 | train acc: 100.00\n",
      "test loss: 0.6942 | test acc: 93.12\n",
      "Epoch: 42\n",
      "------\n",
      "train loss: 0.0003 | train acc: 100.00\n",
      "test loss: 0.6970 | test acc: 93.12\n",
      "Epoch: 43\n",
      "------\n",
      "train loss: 0.0003 | train acc: 100.00\n",
      "test loss: 0.7000 | test acc: 93.12\n",
      "Epoch: 44\n",
      "------\n",
      "train loss: 0.0003 | train acc: 100.00\n",
      "test loss: 0.7024 | test acc: 93.12\n",
      "Epoch: 45\n",
      "------\n",
      "train loss: 0.0003 | train acc: 100.00\n",
      "test loss: 0.7048 | test acc: 93.12\n",
      "Epoch: 46\n",
      "------\n",
      "train loss: 0.0003 | train acc: 100.00\n",
      "test loss: 0.7079 | test acc: 93.12\n",
      "Epoch: 47\n",
      "------\n",
      "train loss: 0.0002 | train acc: 100.00\n",
      "test loss: 0.7102 | test acc: 93.12\n",
      "Epoch: 48\n",
      "------\n",
      "train loss: 0.0002 | train acc: 100.00\n",
      "test loss: 0.7126 | test acc: 93.12\n",
      "Epoch: 49\n",
      "------\n",
      "train loss: 0.0002 | train acc: 100.00\n",
      "test loss: 0.7147 | test acc: 93.12\n"
     ]
    }
   ],
   "source": [
    "torch.manual_seed(42)\n",
    "torch.cuda.manual_seed(42)\n",
    "\n",
    "loss_fn = nn.CrossEntropyLoss()\n",
    "optimizer = torch.optim.SGD(params=numberCNN.parameters(), lr=0.1)\n",
    "\n",
    "epochs = 50\n",
    "\n",
    "for epoch in range(epochs):\n",
    "    print(f\"Epoch: {epoch}\\n------\")\n",
    "    train_step(\n",
    "        model=numberCNN,\n",
    "        dataloader=train_dl,\n",
    "        loss_fn=loss_fn,\n",
    "        optimizer=optimizer\n",
    "    )\n",
    "    test_step(\n",
    "        model=numberCNN,\n",
    "        data_loader=test_dl,\n",
    "        loss_fn=loss_fn,\n",
    "        accuracy_fn=accuracy_fn\n",
    "    )"
   ]
  },
  {
   "cell_type": "code",
   "execution_count": 145,
   "metadata": {},
   "outputs": [
    {
     "name": "stdout",
     "output_type": "stream",
     "text": [
      "Labels: tensor([ 4, 20,  9, 10,  2, 21, 21, 21,  2, 12, 11,  4, 12,  0, 14,  5, 11, 15,\n",
      "         5, 12,  0,  3,  6,  0,  3,  9, 24, 19,  8, 22, 15,  3])\n",
      "Image shape: torch.Size([32, 1, 40, 30])\n"
     ]
    },
    {
     "data": {
      "image/png": "[encoded data removed]",
      "text/plain": [
       "<Figure size 640x480 with 1 Axes>"
      ]
     },
     "metadata": {},
     "output_type": "display_data"
    },
    {
     "data": {
      "image/png": "[encoded data removed]",
      "text/plain": [
       "<Figure size 640x480 with 1 Axes>"
      ]
     },
     "metadata": {},
     "output_type": "display_data"
    },
    {
     "data": {
      "image/png": "[encoded data removed]",
      "text/plain": [
       "<Figure size 640x480 with 1 Axes>"
      ]
     },
     "metadata": {},
     "output_type": "display_data"
    },
    {
     "data": {
      "image/png": "[encoded data removed]",
      "text/plain": [
       "<Figure size 640x480 with 1 Axes>"
      ]
     },
     "metadata": {},
     "output_type": "display_data"
    },
    {
     "data": {
      "image/png": "[encoded data removed]",
      "text/plain": [
       "<Figure size 640x480 with 1 Axes>"
      ]
     },
     "metadata": {},
     "output_type": "display_data"
    }
   ],
   "source": [
    "for images, labels in test_dl:\n",
    "    print(\"Labels:\", labels)\n",
    "    print(\"Image shape:\", images.shape)\n",
    "    for i in range(5):  # Print first 5 images\n",
    "        plt.imshow(images[i].squeeze(), cmap='gray')\n",
    "        plt.title(f\"Label: {labels[i]}\")\n",
    "        plt.show()\n",
    "    break"
   ]
  },
  {
   "cell_type": "code",
   "execution_count": 146,
   "metadata": {},
   "outputs": [],
   "source": [
    "# making preds\n",
    "torch.manual_seed(42)\n",
    "def eval_model(model: torch.nn.Module,\n",
    "               data_loader: torch.utils.data.DataLoader,\n",
    "               loss_fn: torch.nn.Module):\n",
    "  \"\"\"Returns a dict. containing the results of model predicting on data_loader\"\"\"\n",
    "  loss, acc = 0, 0\n",
    "  model.eval()\n",
    "  with torch.inference_mode():\n",
    "    for batch_idx, (test_features_batch, test_labels_batch) in enumerate(data_loader):\n",
    "      test_features_batch = test_features_batch.to(device)\n",
    "      test_labels_batch = test_labels_batch.to(device)\n",
    "      # forward pass\n",
    "      y_pred_logits = model(test_features_batch).squeeze()\n",
    "      test_pred = torch.softmax(y_pred_logits, dim=1).argmax(dim=1)\n",
    "\n",
    "      # calculate loss\n",
    "      loss += loss_fn(y_pred_logits, test_labels_batch)\n",
    "\n",
    "      # calculate acc:\n",
    "      acc += accuracy_fn(test_labels_batch, test_pred)\n",
    "\n",
    "    # calculate the test loss avg per batch\n",
    "    loss /= len(data_loader)\n",
    "    # calculate the test acc avg per batch\n",
    "    acc /= len(data_loader)\n",
    "\n",
    "  return {\"model_name\": model.__class__.__name__,\n",
    "          \"model_loss\": loss.item(),\n",
    "          \"model_acc\": acc}"
   ]
  },
  {
   "cell_type": "code",
   "execution_count": 147,
   "metadata": {},
   "outputs": [
    {
     "data": {
      "text/plain": [
       "{'model_name': 'NumberCNN',\n",
       " 'model_loss': 0.7147128582000732,\n",
       " 'model_acc': 93.125}"
      ]
     },
     "execution_count": 147,
     "metadata": {},
     "output_type": "execute_result"
    }
   ],
   "source": [
    "model_results = eval_model(\n",
    "    model=numberCNN,\n",
    "    data_loader=test_dl,\n",
    "    loss_fn=loss_fn\n",
    ")\n",
    "model_results"
   ]
  },
  {
   "cell_type": "code",
   "execution_count": 148,
   "metadata": {},
   "outputs": [],
   "source": [
    "from pathlib import Path"
   ]
  },
  {
   "cell_type": "code",
   "execution_count": 149,
   "metadata": {},
   "outputs": [],
   "source": [
    "model_path = Path(\"./models\")\n",
    "name = \"number_model.pth\"\n",
    "model_save_path = model_path / name"
   ]
  },
  {
   "cell_type": "code",
   "execution_count": 150,
   "metadata": {},
   "outputs": [],
   "source": [
    "torch.save(obj=numberCNN.state_dict(), f=model_save_path)"
   ]
  }
 ],
 "metadata": {
  "kernelspec": {
   "display_name": "venv",
   "language": "python",
   "name": "python3"
  },
  "language_info": {
   "codemirror_mode": {
    "name": "ipython",
    "version": 3
   },
   "file_extension": ".py",
   "mimetype": "text/x-python",
   "name": "python",
   "nbconvert_exporter": "python",
   "pygments_lexer": "ipython3",
   "version": "3.10.9"
  }
 },
 "nbformat": 4,
 "nbformat_minor": 2
}
